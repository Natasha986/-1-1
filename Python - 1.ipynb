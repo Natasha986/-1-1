{
  "nbformat": 4,
  "nbformat_minor": 0,
  "metadata": {
    "colab": {
      "name": "practice1 (complete)",
      "provenance": [],
      "toc_visible": true,
      "authorship_tag": "ABX9TyPGdzz22LF2/susNUKIXeXP",
      "include_colab_link": true
    },
    "kernelspec": {
      "name": "python3",
      "display_name": "Python 3"
    }
  },
  "cells": [
    {
      "cell_type": "markdown",
      "metadata": {
        "id": "view-in-github",
        "colab_type": "text"
      },
      "source": [
        "<a href=\"https://colab.research.google.com/github/Natasha986/-1-1/blob/master/Python%20-%201.ipynb\" target=\"_parent\"><img src=\"https://colab.research.google.com/assets/colab-badge.svg\" alt=\"Open In Colab\"/></a>"
      ]
    },
    {
      "cell_type": "markdown",
      "metadata": {
        "id": "4Dz4plK9K0j5"
      },
      "source": [
        "Выполнять в тех же ячейках, где было дано задание.\n",
        "Не забывайте, область видимости распространяется на все ячейки"
      ]
    },
    {
      "cell_type": "code",
      "metadata": {
        "colab": {
          "base_uri": "https://localhost:8080/"
        },
        "id": "cya_6DmQLLC1",
        "outputId": "b07aec78-4421-4a4c-d1d7-e05257369bdf"
      },
      "source": [
        "#пример, ввести с клавиатуры 2 переменные и найти их сумму\n",
        "a = int(input())\n",
        "b = int(input())\n",
        "print(a + b)"
      ],
      "execution_count": 1,
      "outputs": [
        {
          "output_type": "stream",
          "name": "stdout",
          "text": [
            "5\n",
            "-26\n",
            "-21\n"
          ]
        }
      ]
    },
    {
      "cell_type": "markdown",
      "metadata": {
        "id": "46WB0qpWKCDW"
      },
      "source": [
        "# переменные"
      ]
    },
    {
      "cell_type": "code",
      "metadata": {
        "id": "315z-a6kKHoG",
        "colab": {
          "base_uri": "https://localhost:8080/"
        },
        "outputId": "6ee073a2-66e2-4fe9-d951-8398b41c86d9"
      },
      "source": [
        "#ввести с клавиатуры две переменные и произвести над ними операции (сложение, вычитание, умножение, деление, остаток от деления числа a на b, а в степени b)\n",
        "a = int(input())\n",
        "b = int(input())\n",
        "print(a + b)\n",
        "print(a - b)\n",
        "print(a * b)\n",
        "print(a / b)\n",
        "print(a % b)\n",
        "print(a ** b)"
      ],
      "execution_count": 2,
      "outputs": [
        {
          "output_type": "stream",
          "name": "stdout",
          "text": [
            "3\n",
            "4\n",
            "7\n",
            "-1\n",
            "12\n",
            "0.75\n",
            "3\n",
            "81\n"
          ]
        }
      ]
    },
    {
      "cell_type": "code",
      "metadata": {
        "id": "lQaN5XVpKEN5",
        "colab": {
          "base_uri": "https://localhost:8080/"
        },
        "outputId": "44be3e3a-91bb-43ef-ab29-cc4ccdd8ce4d"
      },
      "source": [
        "#ввести с клавиатуры переменную, и вывести значение этой переменной с противоположным знаком\n",
        "a = int(input())\n",
        "print(-1 * a)"
      ],
      "execution_count": 3,
      "outputs": [
        {
          "output_type": "stream",
          "name": "stdout",
          "text": [
            "15\n",
            "-15\n"
          ]
        }
      ]
    },
    {
      "cell_type": "code",
      "metadata": {
        "id": "9Wu_AG-ILpMI",
        "colab": {
          "base_uri": "https://localhost:8080/"
        },
        "outputId": "612d8ada-e884-4139-9d61-c3ef422dc952"
      },
      "source": [
        "#ввести с клавиатуры трехзначное число и вывести число его десятков (приводить число к строковому типу запрещается)\n",
        "a = int(input())\n",
        "print(a // 10 % 10)"
      ],
      "execution_count": 5,
      "outputs": [
        {
          "output_type": "stream",
          "name": "stdout",
          "text": [
            "347\n",
            "4\n"
          ]
        }
      ]
    },
    {
      "cell_type": "code",
      "metadata": {
        "id": "IRvOrJOxMFog",
        "colab": {
          "base_uri": "https://localhost:8080/"
        },
        "outputId": "fce2c62e-9a95-4e04-f749-78af8a9a51bc"
      },
      "source": [
        "#ввести с клавиатуры трехзначное число, перевернуть его и вывести на экран\n",
        "a = int(input())\n",
        "b = a // 100 % 10\n",
        "c = a // 10 % 10\n",
        "d = a % 10\n",
        "\n",
        "f = d * 100 + c * 10 + b\n",
        "print(f)"
      ],
      "execution_count": 6,
      "outputs": [
        {
          "output_type": "stream",
          "name": "stdout",
          "text": [
            "567\n",
            "765\n"
          ]
        }
      ]
    },
    {
      "cell_type": "markdown",
      "metadata": {
        "id": "Njh-e62AOS5y"
      },
      "source": [
        "# условный оператор"
      ]
    },
    {
      "cell_type": "code",
      "metadata": {
        "id": "RyHSQVOhOVMk",
        "colab": {
          "base_uri": "https://localhost:8080/"
        },
        "outputId": "fb5a382a-9487-448c-aaee-2f9d9484756b"
      },
      "source": [
        "#ввести с клавиатуры 3 числа и вывести максимальное из них (подразумевается использование условия, запрещено использование функции max)\n",
        "\n",
        "a = int(input())\n",
        "b = int(input())\n",
        "a = int(input())\n",
        "if a > b:\n",
        "  if a > c:\n",
        "    print(a)\n",
        "  elif (a < c):\n",
        "    print(c)\n",
        "elif a < b:\n",
        "  if b > c:\n",
        "    print(b)\n",
        "  elif (b < c):\n",
        "    print(c)\n",
        "  "
      ],
      "execution_count": 8,
      "outputs": [
        {
          "output_type": "stream",
          "name": "stdout",
          "text": [
            "2\n",
            "78\n",
            "87\n",
            "87\n"
          ]
        }
      ]
    },
    {
      "cell_type": "code",
      "metadata": {
        "id": "EN_KydcNO5n0",
        "colab": {
          "base_uri": "https://localhost:8080/"
        },
        "outputId": "db981132-f623-4a9a-8837-a29dd0a4645f"
      },
      "source": [
        "#ввести с клавитуры число, если оно четное, то вывести YES, в противном случае NO\n",
        "a = int(input())\n",
        "if a % 2 == 0:\n",
        "  print(\"YES\")\n",
        "elif a % 2 != 0:\n",
        "  print(\"NO\")\n"
      ],
      "execution_count": 10,
      "outputs": [
        {
          "output_type": "stream",
          "name": "stdout",
          "text": [
            "3\n",
            "NO\n"
          ]
        }
      ]
    },
    {
      "cell_type": "markdown",
      "metadata": {
        "id": "aUTsTVbWPtYb"
      },
      "source": [
        "# циклы"
      ]
    },
    {
      "cell_type": "code",
      "metadata": {
        "id": "CR6udvuPPvIO",
        "colab": {
          "base_uri": "https://localhost:8080/"
        },
        "outputId": "018d6501-f739-4231-f3bb-1e53d5f1ba0b"
      },
      "source": [
        "#ввести с клавиатуры число и найти его факториал\n",
        "a = int(input())\n",
        "f = 1\n",
        "for i in range(2, a+1):\n",
        "    f *= i\n",
        " \n",
        "print(\"Факториал числа \", a, \"=\", f)"
      ],
      "execution_count": 14,
      "outputs": [
        {
          "output_type": "stream",
          "name": "stdout",
          "text": [
            "4\n",
            "Факториал числа  4 = 24\n"
          ]
        }
      ]
    },
    {
      "cell_type": "code",
      "metadata": {
        "id": "K5xOc9H4P52Y",
        "colab": {
          "base_uri": "https://localhost:8080/"
        },
        "outputId": "6fecfb2e-6a7c-4140-8abc-e468d18c9d88"
      },
      "source": [
        "#ввести с клавиатуры 5 чисел и найти их среднее\n",
        "a = int(input())\n",
        "b = int(input())\n",
        "c = int(input())\n",
        "d = int(input())\n",
        "e = int(input())\n",
        "sum = a + b + c + d + e\n",
        "print(sum/5)\n"
      ],
      "execution_count": 15,
      "outputs": [
        {
          "output_type": "stream",
          "name": "stdout",
          "text": [
            "1\n",
            "2\n",
            "3\n",
            "4\n",
            "5\n",
            "3.0\n"
          ]
        }
      ]
    },
    {
      "cell_type": "markdown",
      "metadata": {
        "id": "Do11LhA3Q3fo"
      },
      "source": [
        "# массивы"
      ]
    },
    {
      "cell_type": "code",
      "metadata": {
        "id": "NWD4b3jzQ5kt",
        "colab": {
          "base_uri": "https://localhost:8080/"
        },
        "outputId": "7d6a6ae2-911a-408f-c9fc-c59f1e147aff"
      },
      "source": [
        "#введите с клавиатуры массив (в питоне они называются list, но я буду именовать их общим понятием) и найти в нем максимальное и минимальное значения\n",
        "list = [int(el) for el in input().split()]\n",
        "max = 0\n",
        "min = 10000\n",
        "for i in range(len(list)):\n",
        "  if list[i] > max:\n",
        "    max = list[i]\n",
        "  if list[i] < min:\n",
        "    min = list[i]\n",
        "print(\"Min = \",min)\n",
        "print(\"Max = \", max)\n"
      ],
      "execution_count": 16,
      "outputs": [
        {
          "output_type": "stream",
          "name": "stdout",
          "text": [
            "2 34 6 7 9\n",
            "Min =  2\n",
            "Max =  34\n"
          ]
        }
      ]
    },
    {
      "cell_type": "code",
      "metadata": {
        "id": "DqoKa0QGRG_j",
        "colab": {
          "base_uri": "https://localhost:8080/"
        },
        "outputId": "719a7a5a-e5b2-451f-b9b1-995add133160"
      },
      "source": [
        "#заполнить массив СЛУЧАЙНЫМИ ЧИСЛАМИ и найти его ВТОРОЙ максимум \n",
        "import random\n",
        "col = int(input(\"Введите количество элементов массива: \"))\n",
        "list = []\n",
        "for i in range(col):\n",
        "  list.append(random.randint(-100, 100))\n",
        "max = list[0]\n",
        "for i in list:\n",
        "  if i > max:\n",
        "    max = i\n",
        "print(\"Массив:\", list)\n",
        "list.remove(max)\n",
        "max2 = list[0]\n",
        "for i in list:\n",
        "  if i > max2:\n",
        "    max2 = i\n",
        "print(\"Первый максимум:\", max)\n",
        "print(\"Второй максимум:\", max2)\n"
      ],
      "execution_count": 18,
      "outputs": [
        {
          "output_type": "stream",
          "name": "stdout",
          "text": [
            "Введите количество элементов массива: 15\n",
            "Массив: [-14, -72, -84, -39, 50, -88, -42, -96, 76, 50, -26, 75, -31, 21, -16]\n",
            "Первый максимум: 76\n",
            "Второй максимум: 75\n"
          ]
        }
      ]
    },
    {
      "cell_type": "code",
      "metadata": {
        "id": "H_upgZGORKtD",
        "colab": {
          "base_uri": "https://localhost:8080/"
        },
        "outputId": "462f8281-cede-47ff-d30d-d23ef4cc9b1d"
      },
      "source": [
        "#ввести с клавиатуры массив, если значение меньше 0 сделать его равным -1, если больше равным 1\n",
        "list = [int(el) for el in input().split()]\n",
        "print(\"Массив до:\", list)\n",
        "for i in range(len(list)):\n",
        "  if list[i] < 0:\n",
        "    list[i] = -1\n",
        "  elif list[i] > 0:\n",
        "    list[i] = 1\n",
        "print(\"Массив после:\", list)\n"
      ],
      "execution_count": 20,
      "outputs": [
        {
          "output_type": "stream",
          "name": "stdout",
          "text": [
            "2 -6 7 8 13 -78 -34 6 7  -44\n",
            "Массив до: [2, -6, 7, 8, 13, -78, -34, 6, 7, -44]\n",
            "Массив после: [1, -1, 1, 1, 1, -1, -1, 1, 1, -1]\n"
          ]
        }
      ]
    },
    {
      "cell_type": "markdown",
      "metadata": {
        "id": "GdY9xiKTR-be"
      },
      "source": [
        "# функции"
      ]
    },
    {
      "cell_type": "code",
      "source": [
        "#напишите функцию, которая будет в данной строке искать последовательность символов и заменять ее на другую. Пример - abbcccdddd, cc->a = abbacdddd. \n",
        "#примечание, необходимо заменить все соответствующие последовательности, даже если они образовались в результате изменений. Пример adda, da->a. 1-adda->ada 2-ada->aa\n",
        "#если ничего не удалось заменить, то вывести на экран соответствующее сообщение\n",
        "#в результате функция должна вернуть новую строку\n",
        "\n",
        "def repl(str):\n",
        "  return str.replace('bb', 'v')\n",
        "\n",
        "str = input(\" Введите строку \")\n",
        "if str.find('bb') != -1:\n",
        "  res = repl(str)\n",
        "  print(res)\n",
        "elif str.find('bb') == -1:\n",
        "  print(\"Заменить не удалось!\")  \n",
        "\n"
      ],
      "metadata": {
        "colab": {
          "base_uri": "https://localhost:8080/"
        },
        "id": "wcbKG0B6Qvsn",
        "outputId": "a54eef52-34dc-4016-b25a-e711d2442a0e"
      },
      "execution_count": 42,
      "outputs": [
        {
          "output_type": "stream",
          "name": "stdout",
          "text": [
            " Введите строку helbbdfbg\n",
            "helvdfbg\n"
          ]
        }
      ]
    },
    {
      "cell_type": "code",
      "metadata": {
        "id": "BWM8bBjDSA_I",
        "colab": {
          "base_uri": "https://localhost:8080/"
        },
        "outputId": "db8642da-9b73-4fb1-e640-fcbf19c6168b"
      },
      "source": [
        "#напишите собственную функцию нахождения степени, на вход получает 2 параметра, возвращает результат. Запустить в этой же ячейке\n",
        "\n",
        "def sqrt(x, y):\n",
        "    z = pow(x, y)\n",
        "    return z\n",
        "result = sqrt(2, 5)\n",
        "print(result)\n"
      ],
      "execution_count": 41,
      "outputs": [
        {
          "output_type": "stream",
          "name": "stdout",
          "text": [
            "32\n"
          ]
        }
      ]
    },
    {
      "cell_type": "markdown",
      "metadata": {
        "id": "JKAOMbD7Vao7"
      },
      "source": [
        "# Классы"
      ]
    },
    {
      "cell_type": "code",
      "metadata": {
        "id": "ZV_cx0I3Vfnf"
      },
      "source": [
        "#создайте класс Car, поля класса - марка машины, скорость(км/ч), объем бензобака (литров), расход топлива (литров/час)\n",
        "#определите конструктор, принимающий в качестве параметров марку, скорость и объем бензобака и расход топлива\n",
        "#определить методы: 1- выводящий все данные по машине на экран. 2-метод рассчитывающий максимальное расстояние, \n",
        "#которое может проехать машина с полным бензобаком, считать скорость постоянной\n",
        "#3-метод, позволяющий изменить марку машины. После изменения необходимо вывести данные на экран\n",
        "\n",
        "#!!!Класс записать в этой ячейке, а инициализацию класса и вызов методов в следующей\n",
        "class Car:\n",
        "    mark = 'Volvo'\n",
        "    speed = 35\n",
        "    vol_bak = 40\n",
        "    fuel_tr = 6\n",
        "    def __init__(self, mark, speed, vol_bak, fuel_tr):\n",
        "        self.mark = mark\n",
        "        self.speed = speed\n",
        "        self.vol_bak = vol_bak\n",
        "        self.fuel_tr = fuel_tr\n",
        "\n",
        "    def out(self):\n",
        "      print(\"  Марка:\", self.mark)\n",
        "      print(\"  Скорость:\", self.speed, \"км/ч\")\n",
        "      print(\"  Объём бнзобака:\", self.vol_bak, \"л.\")\n",
        "      print(\"  Расход топлива:\", self.fuel_tr, \"л/ч\")\n",
        "\n",
        "    def max_dist(self):\n",
        "      r = (self.vol_bak/self.fuel_tr) * self.speed\n",
        "      return r\n",
        "    def change_mark(self, mark):\n",
        "      self.mark = mark\n",
        "\n"
      ],
      "execution_count": 62,
      "outputs": []
    },
    {
      "cell_type": "code",
      "metadata": {
        "id": "uWwdcAeQXiU2",
        "colab": {
          "base_uri": "https://localhost:8080/"
        },
        "outputId": "b7b7f2a6-2743-4937-9aae-7bf6256d4639"
      },
      "source": [
        "c1 = Car('Volvo', 35, 40, 6)\n",
        "print(\"Машина:\")\n",
        "c1.out()\n",
        "print(\"Максимвльное расстояние:\",c1.max_dist(), \"км/ч\")\n",
        "print(\"Изменим марку машины:\")\n",
        "c1.change_mark('Lada')\n",
        "c1.out()"
      ],
      "execution_count": 61,
      "outputs": [
        {
          "output_type": "stream",
          "name": "stdout",
          "text": [
            "Машина:\n",
            " Марка: Volvo\n",
            " Скорость: 35 км/ч\n",
            " Объём бнзобака: 40 л.\n",
            " Расход топлива: 6 л/ч\n",
            "Максимвльное расстояние: 233.33333333333334 км/ч\n",
            "Изменим марку машины:\n",
            " Марка: Lada\n",
            " Скорость: 35 км/ч\n",
            " Объём бнзобака: 40 л.\n",
            " Расход топлива: 6 л/ч\n"
          ]
        }
      ]
    }
  ]
}